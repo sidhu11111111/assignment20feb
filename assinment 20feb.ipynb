{
 "cells": [
  {
   "cell_type": "markdown",
   "id": "b52a5ef9-a81a-42c2-86c0-d61e96256765",
   "metadata": {},
   "source": [
    "#QNO.1 ANS:\n",
    "GET : GET requests are used to retrieve data from a web server. When you type a URL into your browser, your browser sends a GET request to the server for that URL, and the server responds with the HTML, CSS, and JavaScript code that makes up the web page. GET requests are also used for search queries and to retrieve data from APIs.\n",
    "\n",
    "\n",
    "POST : POST requests are used to submit data to a web server.When you fill out a form on a web page and click the \"Submit\" button, your browser sends a POST request to the server with the data you entered in the form. This data can include text, images, files, or any other type of data that the server can process."
   ]
  },
  {
   "cell_type": "markdown",
   "id": "4313cb64-f7eb-40f7-96e1-265019b77219",
   "metadata": {},
   "source": [
    "#QNO.2 ANS\n",
    "Request is a built-in Flask object that represents an incoming HTTP request from a client.\n",
    "\n",
    "we use request in Flask because it allows the Flask application to acess the data is sent by the client. For example, if the client submits a form on a web page, the form data is sent in the request object and can be accessed by the Flask application to process the form submission.\n",
    "\n",
    "requests.args dictionary allows the application to acess query parameters sent in the URL"
   ]
  },
  {
   "cell_type": "markdown",
   "id": "42ab2b2e-6c8f-4a19-880e-111b1671512d",
   "metadata": {},
   "source": [
    "#QNO.3 ANS:\n",
    "The redirect() function is useful in situations where th user needs to different page or URL after completing a certain action  such as submitting a form or logging in. For example, after a user successfully logs in to a Flask application, the redirect() function can be used to redirect the user to their dashboard or home page.\n"
   ]
  },
  {
   "cell_type": "markdown",
   "id": "ef796455-9aef-4def-b9f1-419671fae3e4",
   "metadata": {},
   "source": [
    "#QNO.4 ANS\n",
    "Templates in Flask are files that contain HTML, CSS, and other content that define the structure and layout of a web page. Templates allow Flask applications to separate the presentation logic from the application logic, making it easier to maintain and modify the user interface of the application.\n",
    "\n",
    "The render_template() function in Flask is used to render a template file and generate an HTML response that can be sent to the client. The render_template() function takes the name of a template file as its argument and any data that should be passed to the template as keyword arguments."
   ]
  },
  {
   "cell_type": "markdown",
   "id": "adef0a82-5be1-48ad-bb7f-e519ee2e209a",
   "metadata": {},
   "source": [
    "#QNO.5 ANS :\n",
    "![](Screenshot(27).jpg)"
   ]
  },
  {
   "cell_type": "markdown",
   "id": "8722819a-a871-480c-a270-66cb8be36e72",
   "metadata": {},
   "source": []
  }
 ],
 "metadata": {
  "kernelspec": {
   "display_name": "Python 3 (ipykernel)",
   "language": "python",
   "name": "python3"
  },
  "language_info": {
   "codemirror_mode": {
    "name": "ipython",
    "version": 3
   },
   "file_extension": ".py",
   "mimetype": "text/x-python",
   "name": "python",
   "nbconvert_exporter": "python",
   "pygments_lexer": "ipython3",
   "version": "3.10.8"
  }
 },
 "nbformat": 4,
 "nbformat_minor": 5
}
